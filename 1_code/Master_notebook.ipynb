{
 "cells": [
  {
   "cell_type": "markdown",
   "metadata": {},
   "source": [
    "# Forecasting on Contraceptive Use - A Multi-step Ensemble Approach¶\n",
    "\n",
    "Update: 09/06/2020\n",
    "\n",
    "## key idea\n",
    "\n",
    "- The goal is to forecast on site & product_code level demand.\n",
    "- The site & product_code level demand fluctuate too much and don't have any obvious pattern. (per visualization)\n",
    "- ~~we also don't have much external data that we know would have much explainatory power ~~\n",
    "- Maybe the aggregate level is easier to forecast. The noise cancels out.\n",
    "- We don't know what is the best level to aggregate. It's possible that it varies regarding each site too.\n",
    "- we aggregate on various levels, and use \"Ensemble Learning\" to to determine the final result\n",
    "\n",
    "## Aggregate  \n",
    "How to aggregate? Here is the structure of the supply chain and products. We can use this guide our aggregation: \n",
    "- site_code -> district -> region\n",
    "- product_code -> product_type\n",
    "After we aggregate on some level, we get a time series of stock_distributed, {Y}.\n",
    "We supplement some external data and match/aggregate to the same level, {X}.\n",
    "we use a time-series model to forecast {Y} with {Y} and {X}.\n",
    "\n",
    "## Forecast the Aggregate : Time Series Modeling, Auto_SARIMAX\n",
    "- We use a SARIMAX stucture (ARIMA (AR, MA with a trend) with Seasonality and external data )\n",
    "- The specific order of SARIMAX is determined within each time series.\n",
    "- Use BIC criteria to pick the optimal order for ARIMA (p, d, q) and seasonality (P,D,Q) (BIC : best for forecast power) (range of p,d,q and P,D,Q - small, less than 4)\n",
    "- use the time series model to make aggregate forecast\n",
    "\n",
    "## De-aggregate (Distribute) : Machine Learning Modeling\n",
    "\n",
    "- We use machine learning to learn the variable \"share\", the share of the specific stock_distributed as a fraction of the aggregate sum.\n",
    "- training data:\n",
    "    - all the data, excluding the last 3 month. Encode the year, month, region, district, product type, code, plus all available external data, matched to site_code+product level.\n",
    "- target: actual shares \n",
    "- model: RandomForest Decision Regression Tree\n",
    "    - use the fitted model to make prediction on shares. \"Distribute\" aggregate stocks to individual forecasts.\n",
    "    \n",
    "## Emsemble\n",
    "\n",
    "perform twosteps model on different aggregating levels and generating different forecasts\n",
    "build another layer to model the decision to make the final prediction\n",
    "From Aggregate and Distribute, we arrive at X different forecast numbers for each site+product_code. (We also have a lot of intermediary forecasts that could be of interests to various parties).  \n",
    "We introduce another model to perform the ensemble\n",
    "For each training observation, we have multiple fourcasts and one actual realization, denote them as F1, F2, F3, F4 and Y (ommitting site, product, t time subscripts). We also have all the features X ( temperature, roads, etc).\n",
    "The emsemble part estimate another model to take inputs (F1..F4, and features X) to arrive at an estimated Y_hat that minimizes its MSE to Y ( actual stock_distributed).\n",
    "\n",
    "## Key Takeaway of this approach\n",
    "- Combines traditional forecast methods and Machine Learning\n",
    "- It's very transferable to other scenarios\n",
    "- It uses external data and it's easy to plug in more external data.\n",
    "- The ensemble piece makes adding model possible."
   ]
  },
  {
   "cell_type": "markdown",
   "metadata": {},
   "source": [
    "# Outline \n",
    "## Step 1: Data Cleaning \n",
    "### Upsample (fill in gaps in time series)\n",
    "- notebook: "
   ]
  },
  {
   "cell_type": "code",
   "execution_count": 1,
   "metadata": {},
   "outputs": [],
   "source": [
    "%run   datacleaning_upsample.ipynb "
   ]
  },
  {
   "cell_type": "markdown",
   "metadata": {},
   "source": [
    "- inputs:  \"..\\0_data\\contraceptive_logistics_data.csv\"\n",
    "- output:  \"..\\2_pipeline\\df_upsample.csv\"\n",
    "- steps: \n",
    "    - upsample - make sure all individual product-site series has no gaps in time even though they may differ in length \n",
    "    - fill in 0 for NA in stock_distributed"
   ]
  },
  {
   "cell_type": "markdown",
   "metadata": {},
   "source": [
    "### Supplement \n",
    "(very import thing about supplement data - if we are to use any supplement data, the value should exist for the 3 months that are to be forecasted) ( 10, 11, 12) Must be careful when constructing supplement dataset\n",
    "- notebook:\n",
    "    - datacleaning_prep_supplement.ipynb\n",
    "- input:\n",
    "    - \"..\\0_data\\supplement_data_raw.csv\"\n",
    "- steps:\n",
    "    - time invariant supplement data:\n",
    "        - identifiers: site_code product_code region district\n",
    "        - information: (currently) road condition, product type\n",
    "     - output: \"../0_data/time_invariant_supplement.dta\"\n",
    "\n",
    "    - time variant supplement data: (need to create the rows for future value at some point)\n",
    "        - identifiers: temp_timeindex year month site_code product_code region district\n",
    "        - information: maxtemp temp pressure relative rain visibility windspeed maxsus* storm fog\n",
    "    - output: \"../0_data/time_variant_supplement.dta\""
   ]
  },
  {
   "cell_type": "markdown",
   "metadata": {},
   "source": [
    "### Combine \n",
    "- notebook: datacleaning_combine.ipynb \n",
    "- input: \n",
    "    - \"../2_pipeline/df_upsample.csv\"\n",
    "    - '../0_data/submission_format.csv' \n",
    "    - \"../0_data/time_invariant_supplement.dta\" \n",
    "    - \"../0_data/time_variant_supplement.dta\"\n",
    "    - '../0_data/service_delivery_site_data.csv' \n",
    "    \n",
    "- output: a site_code & product_code & date level logistics data with time variant and time invariant exogenous features :\n",
    "    - for development: '../0_data/df_training.csv'\n",
    "    - for final prediction(contained 3 last month exog vars and space holder) '../0_data/df_combined_fullsample.csv'"
   ]
  },
  {
   "cell_type": "markdown",
   "metadata": {},
   "source": [
    "## Step 2: Multiple Agg-Forecast-Distribute Models in parallel \n",
    "\n",
    "- notebook: model_SARIMAX_Distribute_region.ipynb \n",
    "    - input: \n",
    "        - '../0_data/df_combined_fullsample.csv' \n",
    "    - output:\n",
    "        1. ../2_pipeline/final_pred_region_lev.csv\n",
    "        2. ./2_pipeline/final_distribute_regionlev.csv'\n",
    "        \n",
    "- notebook: model_SARIMAX_Distribute_District.ipynb\n",
    "     - input: \n",
    "          - '../0_data/df_combined_fullsample.csv' \n",
    "     - output::\n",
    "        1. '../2_pipeline/final_pred_district_lev.csv'\n",
    "        2. '../2_pipeline/final_distribute_districtlev.csv'\n",
    "        \n",
    "- notebook: model_SARIMAX_Distribute_regionproducttype.ipynb\n",
    "     - input: \n",
    "          - '../0_data/df_combined_fullsample.csv'\n",
    "     - output: \n",
    "        1. ../2_pipeline/final_pred_region_producttype_lev.csv\n",
    "        2. '../2_pipeline/final_distribute_regionproducttypelev.csv'\n",
    "        \n",
    "- notebook: model_SARIMAX_individual.ipyn\n",
    "     - input: \n",
    "        - '../0_data/df_combined_fullsample.csv'\n",
    "     - output: \n",
    "        - '../2_pipeline/final_pred_ind_lev.csv'\n",
    "\n",
    "- notebook: model_SARIMAX_idividual_winsorized.ipynb\n",
    "     - input: \n",
    "        - '../0_data/df_combined_fullsample.csv'\n",
    "     - output: \n",
    "        - '../2_pipeline/final_pred_ind_winsorized_lev.csv'\n",
    "- notebook: model_SARIMAX_individual_rollingsmoothed.ipynb \n",
    "     - input: \n",
    "        - '../0_data/df_combined_fullsample.csv'\n",
    "     - output: \n",
    "        - '../2_pipeline/final_pred_ind_rollingsmoothed_lev.csv' "
   ]
  },
  {
   "cell_type": "markdown",
   "metadata": {},
   "source": [
    "        \n",
    "        \n",
    "## Step 3: Ensemble, learn the ensemble model, make final prediction \n",
    "- notebook: ensemble.ipynb \n",
    "    - input: \n",
    "        - Distribution model results: glob.glob('../2_pipeline/final_distribute_*.csv') \n",
    "        - SARIMAX results: glob.glob('../2_pipeline/final_pred_ind*.csv') \n",
    "    - output: \n",
    " "
   ]
  }
 ],
 "metadata": {
  "kernelspec": {
   "display_name": "Python 3",
   "language": "python",
   "name": "python3"
  },
  "language_info": {
   "codemirror_mode": {
    "name": "ipython",
    "version": 3
   },
   "file_extension": ".py",
   "mimetype": "text/x-python",
   "name": "python",
   "nbconvert_exporter": "python",
   "pygments_lexer": "ipython3",
   "version": "3.7.3"
  }
 },
 "nbformat": 4,
 "nbformat_minor": 4
}
