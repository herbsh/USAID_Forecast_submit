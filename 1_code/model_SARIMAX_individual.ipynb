{
 "cells": [
  {
   "cell_type": "markdown",
   "metadata": {},
   "source": [
    "#  Use SARIMAX to model the time series process "
   ]
  },
  {
   "cell_type": "markdown",
   "metadata": {},
   "source": [
    "# Define global variable(train_end, predict_start, predict_end) and common functions"
   ]
  },
  {
   "cell_type": "markdown",
   "metadata": {},
   "source": [
    "Define train and predict windows "
   ]
  },
  {
   "cell_type": "code",
   "execution_count": 2,
   "metadata": {},
   "outputs": [],
   "source": [
    "# for development \n",
    "# train_end='2019-6'\n",
    "# predict_start='2019-7'\n",
    "# predict_end='2019-9'\n",
    "\n",
    "# for final submit \n",
    "train_end='2019-9'\n",
    "predict_start='2019-10'\n",
    "predict_end='2019-12'"
   ]
  },
  {
   "cell_type": "markdown",
   "metadata": {},
   "source": [
    "## Auto_arima Function\n",
    "note the d is default at  0 and trace =True. Can turn it off or change"
   ]
  },
  {
   "cell_type": "code",
   "execution_count": 3,
   "metadata": {},
   "outputs": [],
   "source": [
    "from matplotlib import pyplot as plt\n",
    "%matplotlib inline\n",
    "from statsmodels.tsa.arima_model import ARMA\n",
    "from statsmodels.tsa.statespace.sarimax import SARIMAX\n"
   ]
  },
  {
   "cell_type": "code",
   "execution_count": 4,
   "metadata": {},
   "outputs": [],
   "source": [
    "import pmdarima as pm \n",
    "def auto_arima(df,col_exog,d=0):\n",
    "    try:\n",
    "        results=pm.auto_arima(df[['stock_distributed']],\n",
    "                              exog=df[col_exog],\n",
    "                              seasonal=True,information_criterion='bic',m=12,\n",
    "                          d=d, D=0, \n",
    "                          max_p=4, max_q=4, \n",
    "                          trace=True, # can turn Trace off \n",
    "                          error_action='ignore',\n",
    "                          suppress_warnings=True)\n",
    "        print(results.order)\n",
    "        print(results.seasonal_order)\n",
    "        #print(col_exog)\n",
    "        return[results.order,results.seasonal_order] \n",
    "    except:\n",
    "        print('error searching')"
   ]
  },
  {
   "cell_type": "markdown",
   "metadata": {},
   "source": [
    "## SARIMAX - Individual\n",
    "\n",
    "It's individual specific because the df_pred_agg_results_piece. The result collection part and the plot part assumes df is on individual level "
   ]
  },
  {
   "cell_type": "code",
   "execution_count": 5,
   "metadata": {},
   "outputs": [],
   "source": [
    "\n",
    "def predict_sarimax(df,order,seasonal_order,col_exog,plot=0):\n",
    "    try:\n",
    "        df_train=df[:train_end]\n",
    "        df_test=df[predict_start:predict_end]\n",
    "        model = SARIMAX(df_train['stock_distributed'], order=order,seasonal_order=seasonal_order,\n",
    "                        exog=df_train[col_exog])\n",
    "        result=model.fit()\n",
    "        sarima_mean_insample=result.get_prediction(start=df_train.index[0],end=train_end,\n",
    "                                                   exog=df_train[col_exog]).predicted_mean\n",
    "        sarima_mean_outsample=result.get_prediction(start=predict_start,end=predict_end,\n",
    "                                                    exog=df[predict_start:predict_end][col_exog]).predicted_mean\n",
    "        sarima_mean_prediction=sarima_mean_insample.append(sarima_mean_outsample)\n",
    "        site_code=df.iloc[0].site_code\n",
    "        product_code=df.iloc[0].product_code\n",
    "        \n",
    "        df_pred_agg_results_piece=pd.DataFrame(data=sarima_mean_prediction,columns=['stock_distributed_forecasted'])\n",
    "        df_pred_agg_results_piece['site_code']=site_code\n",
    "        df_pred_agg_results_piece['product_code']=product_code \n",
    "        if plot==1:\n",
    "            pd.DataFrame({'insample_pred':sarima_mean_insample,'outsample_pred':sarima_mean_outsample,'actual_value':df['stock_distributed']}).plot(); \n",
    "            plt.title(site_code+\"--\"+product_code)\n",
    "            plt.show()\n",
    "        return df_pred_agg_results_piece\n",
    "    except:\n",
    "        print('error')"
   ]
  },
  {
   "cell_type": "markdown",
   "metadata": {},
   "source": [
    "# Import and process data "
   ]
  },
  {
   "cell_type": "markdown",
   "metadata": {},
   "source": [
    "## Import '../0_data/df_combined_fullsample.csv'"
   ]
  },
  {
   "cell_type": "code",
   "execution_count": 6,
   "metadata": {},
   "outputs": [],
   "source": [
    "import pandas as pd\n",
    " #  contraceptive_logistics=pd.read_csv('../0_data/df_combined.csv') \n",
    "contraceptive_logistics=pd.read_csv('../0_data/df_combined_fullsample.csv')\n",
    "contraceptive_logistics['day']=1\n",
    "contraceptive_logistics['date']=pd.to_datetime(contraceptive_logistics[['year','month','day']])\n",
    "contraceptive_logistics=contraceptive_logistics.sort_values('date')"
   ]
  },
  {
   "cell_type": "markdown",
   "metadata": {},
   "source": [
    "## Simplify to individual level "
   ]
  },
  {
   "cell_type": "code",
   "execution_count": 7,
   "metadata": {},
   "outputs": [
    {
     "data": {
      "text/plain": [
       "44504"
      ]
     },
     "execution_count": 7,
     "metadata": {},
     "output_type": "execute_result"
    }
   ],
   "source": [
    "ind_level_stocks=contraceptive_logistics.groupby(['region','site_code','product_code','date'])['stock_distributed'].sum()\n",
    "df_ind_level_stocks=pd.DataFrame(data=ind_level_stocks)\n",
    "df_ind_level_stocks=df_ind_level_stocks.reset_index()\n",
    "len(df_ind_level_stocks)"
   ]
  },
  {
   "cell_type": "code",
   "execution_count": 22,
   "metadata": {},
   "outputs": [
    {
     "name": "stdout",
     "output_type": "stream",
     "text": [
      "regionasphaltroads\n",
      "regionearthroads\n",
      "regionsurfacetreatmentroads\n",
      "regionpoorroads\n",
      "poorroads\n",
      "earthroads\n",
      "asphaltroads\n",
      "temp\n",
      "maxtemp\n",
      "pressure\n",
      "relativehumidity\n",
      "rainfallsnowmelt\n",
      "visibility\n",
      "windspeed\n",
      "maxsustainedwindspeed\n",
      "rainordrizzle\n",
      "storm\n",
      "fog\n"
     ]
    }
   ],
   "source": [
    "col_continuous=contraceptive_logistics.columns[10:-1].to_list()\n",
    "col_continuous.remove('site_type')\n",
    "for col in col_continuous:\n",
    "    print(col)\n",
    "    df_ind_level_stocks[col]=pd.DataFrame(data=contraceptive_logistics.groupby(['region','site_code','product_code','date'])[col].mean().values)\n"
   ]
  },
  {
   "cell_type": "markdown",
   "metadata": {},
   "source": [
    "# SARIMAX"
   ]
  },
  {
   "cell_type": "code",
   "execution_count": 23,
   "metadata": {},
   "outputs": [],
   "source": [
    "col_continuous=contraceptive_logistics.columns[10:-1].to_list()\n",
    "col_continuous.remove('site_type')"
   ]
  },
  {
   "cell_type": "code",
   "execution_count": 24,
   "metadata": {},
   "outputs": [],
   "source": [
    "col_exog=col_continuous"
   ]
  },
  {
   "cell_type": "markdown",
   "metadata": {},
   "source": [
    "### Testing  "
   ]
  },
  {
   "cell_type": "code",
   "execution_count": 27,
   "metadata": {
    "collapsed": true,
    "jupyter": {
     "outputs_hidden": true
    }
   },
   "outputs": [
    {
     "name": "stdout",
     "output_type": "stream",
     "text": [
      "C1054\n",
      "AS27138\n",
      "Performing stepwise search to minimize bic\n",
      " ARIMA(2,0,2)(1,0,1)[12] intercept   : BIC=461.394, Time=0.30 sec\n",
      " ARIMA(0,0,0)(0,0,0)[12] intercept   : BIC=452.766, Time=0.01 sec\n",
      " ARIMA(1,0,0)(1,0,0)[12] intercept   : BIC=452.342, Time=0.12 sec\n",
      " ARIMA(0,0,1)(0,0,1)[12] intercept   : BIC=455.102, Time=0.10 sec\n",
      " ARIMA(0,0,0)(0,0,0)[12]             : BIC=476.870, Time=0.01 sec\n",
      " ARIMA(1,0,0)(0,0,0)[12] intercept   : BIC=449.016, Time=0.03 sec\n",
      " ARIMA(1,0,0)(0,0,1)[12] intercept   : BIC=452.357, Time=0.09 sec\n",
      " ARIMA(1,0,0)(1,0,1)[12] intercept   : BIC=456.213, Time=0.19 sec\n",
      " ARIMA(2,0,0)(0,0,0)[12] intercept   : BIC=448.633, Time=0.05 sec\n",
      " ARIMA(2,0,0)(1,0,0)[12] intercept   : BIC=452.125, Time=0.13 sec\n",
      " ARIMA(2,0,0)(0,0,1)[12] intercept   : BIC=452.129, Time=0.11 sec\n",
      " ARIMA(2,0,0)(1,0,1)[12] intercept   : BIC=455.996, Time=0.26 sec\n",
      " ARIMA(3,0,0)(0,0,0)[12] intercept   : BIC=452.371, Time=0.06 sec\n",
      " ARIMA(2,0,1)(0,0,0)[12] intercept   : BIC=452.463, Time=0.07 sec\n",
      " ARIMA(1,0,1)(0,0,0)[12] intercept   : BIC=450.711, Time=0.06 sec\n",
      " ARIMA(3,0,1)(0,0,0)[12] intercept   : BIC=454.493, Time=0.12 sec\n",
      " ARIMA(2,0,0)(0,0,0)[12]             : BIC=448.940, Time=0.02 sec\n",
      "\n",
      "Best model:  ARIMA(2,0,0)(0,0,0)[12] intercept\n",
      "Total fit time: 1.722 seconds\n",
      "(2, 0, 0)\n",
      "(0, 0, 0, 12)\n"
     ]
    },
    {
     "name": "stderr",
     "output_type": "stream",
     "text": [
      "C:\\Anaconda\\lib\\site-packages\\statsmodels\\base\\model.py:568: ConvergenceWarning: Maximum Likelihood optimization failed to converge. Check mle_retvals\n",
      "  \"Check mle_retvals\", ConvergenceWarning)\n"
     ]
    },
    {
     "data": {
      "image/png": "[encoded data removed]",
      "text/plain": [
       "<Figure size 432x288 with 1 Axes>"
      ]
     },
     "metadata": {
      "needs_background": "light"
     },
     "output_type": "display_data"
    },
    {
     "name": "stdout",
     "output_type": "stream",
     "text": [
      "C1054\n",
      "AS42018\n",
      "C1059\n",
      "AS27138\n",
      "Performing stepwise search to minimize bic\n",
      " ARIMA(2,0,2)(1,0,1)[12] intercept   : BIC=inf, Time=0.45 sec\n",
      " ARIMA(0,0,0)(0,0,0)[12] intercept   : BIC=263.776, Time=0.00 sec\n",
      " ARIMA(1,0,0)(1,0,0)[12] intercept   : BIC=266.957, Time=0.06 sec\n",
      " ARIMA(0,0,1)(0,0,1)[12] intercept   : BIC=267.135, Time=0.07 sec\n",
      " ARIMA(0,0,0)(0,0,0)[12]             : BIC=273.299, Time=0.00 sec\n",
      " ARIMA(0,0,0)(1,0,0)[12] intercept   : BIC=266.146, Time=0.04 sec\n",
      " ARIMA(0,0,0)(0,0,1)[12] intercept   : BIC=265.919, Time=0.04 sec\n",
      " ARIMA(0,0,0)(1,0,1)[12] intercept   : BIC=inf, Time=0.18 sec\n",
      " ARIMA(1,0,0)(0,0,0)[12] intercept   : BIC=263.784, Time=0.02 sec\n",
      " ARIMA(0,0,1)(0,0,0)[12] intercept   : BIC=264.402, Time=0.02 sec\n",
      " ARIMA(1,0,1)(0,0,0)[12] intercept   : BIC=265.666, Time=0.04 sec\n",
      "\n",
      "Best model:  ARIMA(0,0,0)(0,0,0)[12] intercept\n",
      "Total fit time: 0.937 seconds\n",
      "(0, 0, 0)\n",
      "(0, 0, 0, 12)\n"
     ]
    },
    {
     "data": {
      "image/png": "[encoded data removed]",
      "text/plain": [
       "<Figure size 432x288 with 1 Axes>"
      ]
     },
     "metadata": {
      "needs_background": "light"
     },
     "output_type": "display_data"
    },
    {
     "name": "stdout",
     "output_type": "stream",
     "text": [
      "C1059\n",
      "AS42018\n",
      " ARIMA(0,0,0)(0,0,0)[0]             : BIC=-594.401, Time=0.01 sec\n",
      "Total fit time: 0.016 seconds\n",
      "(0, 0, 0)\n",
      "(0, 0, 0, 0)\n",
      "error\n"
     ]
    },
    {
     "name": "stderr",
     "output_type": "stream",
     "text": [
      "C:\\Users\\Herbie Huang\\AppData\\Roaming\\Python\\Python37\\site-packages\\pmdarima\\arima\\auto.py:397: UserWarning: Input time-series is completely constant; returning a (0, 0, 0) ARMA.\n",
      "  warnings.warn('Input time-series is completely constant; '\n",
      "C:\\Anaconda\\lib\\site-packages\\statsmodels\\base\\model.py:568: ConvergenceWarning: Maximum Likelihood optimization failed to converge. Check mle_retvals\n",
      "  \"Check mle_retvals\", ConvergenceWarning)\n"
     ]
    }
   ],
   "source": [
    "# testing look , plot=1 \n",
    "df_pred_ind=pd.DataFrame()\n",
    "for site_code in  df_ind_level_stocks['site_code'].unique()[6:8] :\n",
    "    df1=df_ind_level_stocks[df_ind_level_stocks['site_code']==site_code];\n",
    "    for product in df1['product_code'].unique()[6:8]:\n",
    "        df2=df1[df1['product_code']==product].copy();\n",
    "        df2['date']=pd.to_datetime(df2['date']);\n",
    "        df2=df2.set_index(['date']);\n",
    "        df2=df2.resample('MS').fillna('nearest')\n",
    "        print(site_code)\n",
    "        print(product)\n",
    "        #fit_and_plot_forecast(df2)\n",
    "        if(len(df2)>10):\n",
    "            [order,seasonal_order]=auto_arima(df2,col_exog); \n",
    "            result_piece= predict_sarimax(df2,order,seasonal_order,col_exog,plot=1);\n",
    "            # print(result_piece)\n",
    "            df_pred_ind=pd.concat([df_pred_ind,result_piece])\n"
   ]
  },
  {
   "cell_type": "markdown",
   "metadata": {},
   "source": [
    "## Export  '../2_pipeline/final_pred_ind_lev.csv' \n",
    "## Run the full data "
   ]
  },
  {
   "cell_type": "code",
   "execution_count": null,
   "metadata": {},
   "outputs": [],
   "source": [
    "df_pred_ind=pd.DataFrame()\n",
    "for site_code in  df_ind_level_stocks['site_code'].unique() :\n",
    "    df1=df_ind_level_stocks[df_ind_level_stocks['site_code']==site_code];\n",
    "    for product in df1['product_code'].unique():\n",
    "        df2=df1[df1['product_code']==product].copy();\n",
    "        df2['date']=pd.to_datetime(df2['date']);\n",
    "        df2=df2.set_index(['date']);\n",
    "        df2=df2.resample('MS').fillna('nearest')\n",
    "        print(site_code)\n",
    "        print(product)\n",
    "        #fit_and_plot_forecast(df2)\n",
    "        if(len(df2)>10):\n",
    "            [order,seasonal_order]=auto_arima(df2,col_exog); \n",
    "            result_piece= predict_sarimax(df2,order,seasonal_order,col_exog,plot=0);\n",
    "            # print(result_piece)\n",
    "            df_pred_ind=pd.concat([df_pred_ind,result_piece])\n",
    "df_pred_ind.to_csv('../2_pipeline/final_pred_ind_lev.csv')"
   ]
  }
 ],
 "metadata": {
  "kernelspec": {
   "display_name": "Python 3",
   "language": "python",
   "name": "python3"
  },
  "language_info": {
   "codemirror_mode": {
    "name": "ipython",
    "version": 3
   },
   "file_extension": ".py",
   "mimetype": "text/x-python",
   "name": "python",
   "nbconvert_exporter": "python",
   "pygments_lexer": "ipython3",
   "version": "3.7.3"
  }
 },
 "nbformat": 4,
 "nbformat_minor": 4
}
