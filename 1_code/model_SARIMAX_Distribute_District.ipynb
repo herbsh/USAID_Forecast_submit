{
 "cells": [
  {
   "cell_type": "markdown",
   "metadata": {},
   "source": [
    "#  Use SARIMAX to model the time series process "
   ]
  },
  {
   "cell_type": "markdown",
   "metadata": {},
   "source": [
    "# Define global variable(train_end, predict_start, predict_end) and common functions"
   ]
  },
  {
   "cell_type": "markdown",
   "metadata": {},
   "source": [
    "Define train and predict windows "
   ]
  },
  {
   "cell_type": "code",
   "execution_count": 8,
   "metadata": {},
   "outputs": [],
   "source": [
    "# for development \n",
    "# train_end='2019-6'\n",
    "# predict_start='2019-7'\n",
    "# predict_end='2019-9'\n",
    "\n",
    "# for final submit \n",
    "train_end='2019-9'\n",
    "predict_start='2019-10'\n",
    "predict_end='2019-12'"
   ]
  },
  {
   "cell_type": "markdown",
   "metadata": {},
   "source": [
    "# Import and process data "
   ]
  },
  {
   "cell_type": "markdown",
   "metadata": {},
   "source": [
    "## Import '../0_data/df_combined_fullsample.csv'"
   ]
  },
  {
   "cell_type": "code",
   "execution_count": 1,
   "metadata": {},
   "outputs": [],
   "source": [
    "import pandas as pd\n",
    " #  contraceptive_logistics=pd.read_csv('../0_data/df_combined.csv') \n",
    "contraceptive_logistics=pd.read_csv('../0_data/df_combined_fullsample.csv')\n",
    "contraceptive_logistics['day']=1\n",
    "contraceptive_logistics['date']=pd.to_datetime(contraceptive_logistics[['year','month','day']])\n",
    "contraceptive_logistics=contraceptive_logistics.sort_values('date')"
   ]
  },
  {
   "cell_type": "markdown",
   "metadata": {},
   "source": [
    "# SARIMAX"
   ]
  },
  {
   "cell_type": "markdown",
   "metadata": {},
   "source": [
    "- need to write this part "
   ]
  },
  {
   "cell_type": "markdown",
   "metadata": {},
   "source": [
    "# Distribute "
   ]
  },
  {
   "cell_type": "code",
   "execution_count": 2,
   "metadata": {},
   "outputs": [
    {
     "data": {
      "text/html": [
       "<div>\n",
       "<style scoped>\n",
       "    .dataframe tbody tr th:only-of-type {\n",
       "        vertical-align: middle;\n",
       "    }\n",
       "\n",
       "    .dataframe tbody tr th {\n",
       "        vertical-align: top;\n",
       "    }\n",
       "\n",
       "    .dataframe thead th {\n",
       "        text-align: right;\n",
       "    }\n",
       "</style>\n",
       "<table border=\"1\" class=\"dataframe\">\n",
       "  <thead>\n",
       "    <tr style=\"text-align: right;\">\n",
       "      <th></th>\n",
       "      <th>date</th>\n",
       "      <th>site_code</th>\n",
       "      <th>product_code</th>\n",
       "      <th>year</th>\n",
       "      <th>month</th>\n",
       "      <th>stock_distributed</th>\n",
       "      <th>region</th>\n",
       "      <th>district</th>\n",
       "      <th>product_type</th>\n",
       "      <th>regionroads</th>\n",
       "      <th>...</th>\n",
       "      <th>pressure</th>\n",
       "      <th>relativehumidity</th>\n",
       "      <th>rainfallsnowmelt</th>\n",
       "      <th>visibility</th>\n",
       "      <th>windspeed</th>\n",
       "      <th>maxsustainedwindspeed</th>\n",
       "      <th>rainordrizzle</th>\n",
       "      <th>storm</th>\n",
       "      <th>fog</th>\n",
       "      <th>day</th>\n",
       "    </tr>\n",
       "  </thead>\n",
       "  <tbody>\n",
       "    <tr>\n",
       "      <th>43603</th>\n",
       "      <td>2019-12-01</td>\n",
       "      <td>C3012</td>\n",
       "      <td>AS27134</td>\n",
       "      <td>2019</td>\n",
       "      <td>12</td>\n",
       "      <td>0.0</td>\n",
       "      <td>PORO-TCHOLOGO-BAGOUE</td>\n",
       "      <td>FERKESSEDOUGOU</td>\n",
       "      <td>Injectable Contraceptive</td>\n",
       "      <td>191.000000</td>\n",
       "      <td>...</td>\n",
       "      <td>1011.5000</td>\n",
       "      <td>30.20000</td>\n",
       "      <td>0.00000</td>\n",
       "      <td>5.200000</td>\n",
       "      <td>6.600000</td>\n",
       "      <td>12.700000</td>\n",
       "      <td>0.000000</td>\n",
       "      <td>0.000000</td>\n",
       "      <td>0.000000</td>\n",
       "      <td>1</td>\n",
       "    </tr>\n",
       "    <tr>\n",
       "      <th>42694</th>\n",
       "      <td>2019-12-01</td>\n",
       "      <td>C1701</td>\n",
       "      <td>AS27133</td>\n",
       "      <td>2019</td>\n",
       "      <td>12</td>\n",
       "      <td>0.0</td>\n",
       "      <td>AGNEBY-TIASSA-ME</td>\n",
       "      <td>TIASSALE</td>\n",
       "      <td>Injectable Contraceptive</td>\n",
       "      <td>98.000000</td>\n",
       "      <td>...</td>\n",
       "      <td>598.9047</td>\n",
       "      <td>78.26958</td>\n",
       "      <td>91.83673</td>\n",
       "      <td>8.567444</td>\n",
       "      <td>7.227927</td>\n",
       "      <td>14.248726</td>\n",
       "      <td>8.856819</td>\n",
       "      <td>8.747553</td>\n",
       "      <td>1.313337</td>\n",
       "      <td>1</td>\n",
       "    </tr>\n",
       "    <tr>\n",
       "      <th>44503</th>\n",
       "      <td>2019-12-01</td>\n",
       "      <td>C5076</td>\n",
       "      <td>AS46000</td>\n",
       "      <td>2019</td>\n",
       "      <td>12</td>\n",
       "      <td>0.0</td>\n",
       "      <td>KABADOUGOU-BAFING-FOLON</td>\n",
       "      <td>KORO</td>\n",
       "      <td>NaN</td>\n",
       "      <td>97.381154</td>\n",
       "      <td>...</td>\n",
       "      <td>598.9047</td>\n",
       "      <td>78.26958</td>\n",
       "      <td>91.83673</td>\n",
       "      <td>8.567444</td>\n",
       "      <td>7.227927</td>\n",
       "      <td>14.248726</td>\n",
       "      <td>8.856819</td>\n",
       "      <td>8.747553</td>\n",
       "      <td>1.313337</td>\n",
       "      <td>1</td>\n",
       "    </tr>\n",
       "  </tbody>\n",
       "</table>\n",
       "<p>3 rows × 30 columns</p>\n",
       "</div>"
      ],
      "text/plain": [
       "            date site_code product_code  year  month  stock_distributed  \\\n",
       "43603 2019-12-01     C3012      AS27134  2019     12                0.0   \n",
       "42694 2019-12-01     C1701      AS27133  2019     12                0.0   \n",
       "44503 2019-12-01     C5076      AS46000  2019     12                0.0   \n",
       "\n",
       "                        region        district              product_type  \\\n",
       "43603     PORO-TCHOLOGO-BAGOUE  FERKESSEDOUGOU  Injectable Contraceptive   \n",
       "42694         AGNEBY-TIASSA-ME        TIASSALE  Injectable Contraceptive   \n",
       "44503  KABADOUGOU-BAFING-FOLON            KORO                       NaN   \n",
       "\n",
       "       regionroads  ...   pressure  relativehumidity  rainfallsnowmelt  \\\n",
       "43603   191.000000  ...  1011.5000          30.20000           0.00000   \n",
       "42694    98.000000  ...   598.9047          78.26958          91.83673   \n",
       "44503    97.381154  ...   598.9047          78.26958          91.83673   \n",
       "\n",
       "       visibility  windspeed  maxsustainedwindspeed  rainordrizzle     storm  \\\n",
       "43603    5.200000   6.600000              12.700000       0.000000  0.000000   \n",
       "42694    8.567444   7.227927              14.248726       8.856819  8.747553   \n",
       "44503    8.567444   7.227927              14.248726       8.856819  8.747553   \n",
       "\n",
       "            fog  day  \n",
       "43603  0.000000    1  \n",
       "42694  1.313337    1  \n",
       "44503  1.313337    1  \n",
       "\n",
       "[3 rows x 30 columns]"
      ]
     },
     "execution_count": 2,
     "metadata": {},
     "output_type": "execute_result"
    }
   ],
   "source": [
    "contraceptive_logistics.tail(3)"
   ]
  },
  {
   "cell_type": "code",
   "execution_count": 3,
   "metadata": {},
   "outputs": [
    {
     "data": {
      "text/plain": [
       "(44504,)"
      ]
     },
     "execution_count": 3,
     "metadata": {},
     "output_type": "execute_result"
    }
   ],
   "source": [
    "contraceptive_logistics['group_sum']=contraceptive_logistics.groupby(['product_code','district','date'])['stock_distributed'].transform('sum') \n",
    "contraceptive_logistics['share']=contraceptive_logistics['stock_distributed']/contraceptive_logistics['group_sum'] \n",
    "y=contraceptive_logistics.share.fillna(0)\n",
    "y.shape"
   ]
  },
  {
   "cell_type": "code",
   "execution_count": 4,
   "metadata": {},
   "outputs": [],
   "source": [
    "from sklearn.preprocessing import OneHotEncoder\n"
   ]
  },
  {
   "cell_type": "code",
   "execution_count": 5,
   "metadata": {},
   "outputs": [],
   "source": [
    "columns_to_encode=['site_code', 'product_code', 'year', 'month',\n",
    "       'region', 'district', 'product_type','site_type'] # categorical \n",
    "columns_continuous=['regionroads',\n",
    "       'regionasphaltroads', 'regionearthroads', 'regionsurfacetreatmentroads',\n",
    "       'regionpoorroads', 'poorroads', 'earthroads', 'asphaltroads', 'temp',\n",
    "       'maxtemp', 'pressure', 'relativehumidity', 'rainfallsnowmelt',\n",
    "       'visibility', 'windspeed', 'maxsustainedwindspeed', 'rainordrizzle',\n",
    "       'storm', 'fog'] # continuous \n",
    "\n",
    "ohe = OneHotEncoder(sparse=False,categories='auto')\n",
    "encoded_columns =  ohe.fit_transform(contraceptive_logistics[columns_to_encode].fillna('NA'))\n",
    "\n",
    " \n",
    "\n",
    "features=pd.DataFrame(data=encoded_columns,columns=ohe.get_feature_names(columns_to_encode))\n",
    "features[columns_continuous]=contraceptive_logistics[columns_continuous]"
   ]
  },
  {
   "cell_type": "code",
   "execution_count": 6,
   "metadata": {},
   "outputs": [
    {
     "data": {
      "text/plain": [
       "(44504, 314)"
      ]
     },
     "execution_count": 6,
     "metadata": {},
     "output_type": "execute_result"
    }
   ],
   "source": [
    "X=features\n",
    "X.shape"
   ]
  },
  {
   "cell_type": "markdown",
   "metadata": {},
   "source": [
    "## Train Test Split"
   ]
  },
  {
   "cell_type": "code",
   "execution_count": 9,
   "metadata": {},
   "outputs": [],
   "source": [
    "train_end\n",
    "\n",
    "X.index\n",
    "\n",
    "contraceptive_logistics.shape\n",
    "\n",
    "contraceptive_logistics.set_index('date')[:train_end].shape[0]\n",
    "\n",
    "train_length=contraceptive_logistics.set_index('date')[:train_end].shape[0]\n",
    "\n",
    "X_train=X[:train_length]\n",
    "y_train=y[:train_length]"
   ]
  },
  {
   "cell_type": "markdown",
   "metadata": {},
   "source": [
    "## Random Forest Model"
   ]
  },
  {
   "cell_type": "code",
   "execution_count": 10,
   "metadata": {},
   "outputs": [
    {
     "data": {
      "text/plain": [
       "[]"
      ]
     },
     "execution_count": 10,
     "metadata": {},
     "output_type": "execute_result"
    }
   ],
   "source": [
    "X_train.columns[X_train.isna().any()].tolist()"
   ]
  },
  {
   "cell_type": "code",
   "execution_count": 11,
   "metadata": {},
   "outputs": [],
   "source": [
    "from sklearn.ensemble import RandomForestRegressor\n",
    "regr = RandomForestRegressor(max_depth=30,n_estimators=10,random_state=21)\n",
    "regr.fit(X_train , y_train)\n",
    "y_pred=regr.predict(X)\n",
    " "
   ]
  },
  {
   "cell_type": "code",
   "execution_count": 12,
   "metadata": {},
   "outputs": [
    {
     "data": {
      "text/plain": [
       "44504"
      ]
     },
     "execution_count": 12,
     "metadata": {},
     "output_type": "execute_result"
    }
   ],
   "source": [
    "len(y_pred)"
   ]
  },
  {
   "cell_type": "markdown",
   "metadata": {},
   "source": [
    "## Export Distribute District Level Result  ../2_pipeline/final_distribute_districtlev.csv'"
   ]
  },
  {
   "cell_type": "code",
   "execution_count": 13,
   "metadata": {},
   "outputs": [],
   "source": [
    "distribute_districtlev=contraceptive_logistics[['date','district','site_code','product_code','stock_distributed']].copy()\n",
    "distribute_districtlev['pred_share_districtlev']=y_pred \n",
    "distribute_districtlev['agg_level']='district'\n",
    "col_export_distribute_agg=['date','district','site_code','product_code','pred_share_districtlev','agg_level']\n",
    "distribute_districtlev[col_export_distribute_agg].to_csv('../2_pipeline/final_distribute_districtlev.csv')"
   ]
  },
  {
   "cell_type": "code",
   "execution_count": 14,
   "metadata": {},
   "outputs": [
    {
     "data": {
      "text/plain": [
       "44504"
      ]
     },
     "execution_count": 14,
     "metadata": {},
     "output_type": "execute_result"
    }
   ],
   "source": [
    "len(distribute_districtlev)"
   ]
  },
  {
   "cell_type": "code",
   "execution_count": 15,
   "metadata": {},
   "outputs": [
    {
     "data": {
      "text/html": [
       "<div>\n",
       "<style scoped>\n",
       "    .dataframe tbody tr th:only-of-type {\n",
       "        vertical-align: middle;\n",
       "    }\n",
       "\n",
       "    .dataframe tbody tr th {\n",
       "        vertical-align: top;\n",
       "    }\n",
       "\n",
       "    .dataframe thead th {\n",
       "        text-align: right;\n",
       "    }\n",
       "</style>\n",
       "<table border=\"1\" class=\"dataframe\">\n",
       "  <thead>\n",
       "    <tr style=\"text-align: right;\">\n",
       "      <th></th>\n",
       "      <th>date</th>\n",
       "      <th>district</th>\n",
       "      <th>site_code</th>\n",
       "      <th>product_code</th>\n",
       "      <th>stock_distributed</th>\n",
       "      <th>pred_share_districtlev</th>\n",
       "      <th>agg_level</th>\n",
       "    </tr>\n",
       "  </thead>\n",
       "  <tbody>\n",
       "    <tr>\n",
       "      <th>14324</th>\n",
       "      <td>2016-01-01</td>\n",
       "      <td>SIKENSI</td>\n",
       "      <td>C1098</td>\n",
       "      <td>AS27137</td>\n",
       "      <td>0.0</td>\n",
       "      <td>0.081555</td>\n",
       "      <td>district</td>\n",
       "    </tr>\n",
       "    <tr>\n",
       "      <th>26460</th>\n",
       "      <td>2016-01-01</td>\n",
       "      <td>TIEBISSOU</td>\n",
       "      <td>C2068</td>\n",
       "      <td>AS46000</td>\n",
       "      <td>0.0</td>\n",
       "      <td>0.073416</td>\n",
       "      <td>district</td>\n",
       "    </tr>\n",
       "    <tr>\n",
       "      <th>11574</th>\n",
       "      <td>2016-01-01</td>\n",
       "      <td>GRAND-BASSAM</td>\n",
       "      <td>C1087</td>\n",
       "      <td>AS27000</td>\n",
       "      <td>50.0</td>\n",
       "      <td>0.624580</td>\n",
       "      <td>district</td>\n",
       "    </tr>\n",
       "    <tr>\n",
       "      <th>34391</th>\n",
       "      <td>2016-01-01</td>\n",
       "      <td>BOUNA</td>\n",
       "      <td>C4018</td>\n",
       "      <td>AS27139</td>\n",
       "      <td>0.0</td>\n",
       "      <td>0.000000</td>\n",
       "      <td>district</td>\n",
       "    </tr>\n",
       "    <tr>\n",
       "      <th>32742</th>\n",
       "      <td>2016-01-01</td>\n",
       "      <td>BONDOUKOU</td>\n",
       "      <td>C4002</td>\n",
       "      <td>AS27132</td>\n",
       "      <td>0.0</td>\n",
       "      <td>0.500000</td>\n",
       "      <td>district</td>\n",
       "    </tr>\n",
       "  </tbody>\n",
       "</table>\n",
       "</div>"
      ],
      "text/plain": [
       "            date      district site_code product_code  stock_distributed  \\\n",
       "14324 2016-01-01       SIKENSI     C1098      AS27137                0.0   \n",
       "26460 2016-01-01     TIEBISSOU     C2068      AS46000                0.0   \n",
       "11574 2016-01-01  GRAND-BASSAM     C1087      AS27000               50.0   \n",
       "34391 2016-01-01         BOUNA     C4018      AS27139                0.0   \n",
       "32742 2016-01-01     BONDOUKOU     C4002      AS27132                0.0   \n",
       "\n",
       "       pred_share_districtlev agg_level  \n",
       "14324                0.081555  district  \n",
       "26460                0.073416  district  \n",
       "11574                0.624580  district  \n",
       "34391                0.000000  district  \n",
       "32742                0.500000  district  "
      ]
     },
     "execution_count": 15,
     "metadata": {},
     "output_type": "execute_result"
    }
   ],
   "source": [
    "distribute_districtlev.head()"
   ]
  }
 ],
 "metadata": {
  "kernelspec": {
   "display_name": "Python 3",
   "language": "python",
   "name": "python3"
  },
  "language_info": {
   "codemirror_mode": {
    "name": "ipython",
    "version": 3
   },
   "file_extension": ".py",
   "mimetype": "text/x-python",
   "name": "python",
   "nbconvert_exporter": "python",
   "pygments_lexer": "ipython3",
   "version": "3.7.3"
  }
 },
 "nbformat": 4,
 "nbformat_minor": 4
}
