{
 "cells": [
  {
   "cell_type": "markdown",
   "metadata": {},
   "source": [
    "#  Use SARIMAX to model the time series process "
   ]
  },
  {
   "cell_type": "markdown",
   "metadata": {},
   "source": [
    "# Define global variable(train_end, predict_start, predict_end) and common functions"
   ]
  },
  {
   "cell_type": "markdown",
   "metadata": {},
   "source": [
    "Define train and predict windows "
   ]
  },
  {
   "cell_type": "code",
   "execution_count": 15,
   "metadata": {},
   "outputs": [],
   "source": [
    "# for development \n",
    "# train_end='2019-6'\n",
    "# predict_start='2019-7'\n",
    "# predict_end='2019-9'\n",
    "\n",
    "# for final submit \n",
    "train_end='2019-9'\n",
    "predict_start='2019-10'\n",
    "predict_end='2019-12'"
   ]
  },
  {
   "cell_type": "markdown",
   "metadata": {},
   "source": [
    "## Auto_arima Function\n",
    "note the d is default at  0 and trace =True. Can turn it off or change"
   ]
  },
  {
   "cell_type": "code",
   "execution_count": 16,
   "metadata": {},
   "outputs": [],
   "source": [
    "from matplotlib import pyplot as plt\n",
    "%matplotlib inline\n",
    "from statsmodels.tsa.arima_model import ARMA\n",
    "from statsmodels.tsa.statespace.sarimax import SARIMAX\n"
   ]
  },
  {
   "cell_type": "code",
   "execution_count": 17,
   "metadata": {},
   "outputs": [],
   "source": [
    "import pmdarima as pm \n",
    "def auto_arima(df,col_exog,d=0):\n",
    "    try:\n",
    "        results=pm.auto_arima(df[['stock_distributed']],\n",
    "                              exog=df[col_exog],\n",
    "                              seasonal=True,information_criterion='bic',m=12,\n",
    "                          d=d, D=0, \n",
    "                          max_p=4, max_q=4, \n",
    "                          trace=True, # can turn Trace off \n",
    "                          error_action='ignore',\n",
    "                          suppress_warnings=True)\n",
    "        print(results.order)\n",
    "        print(results.seasonal_order)\n",
    "        #print(col_exog)\n",
    "        return[results.order,results.seasonal_order] \n",
    "    except:\n",
    "        print('error searching')"
   ]
  },
  {
   "cell_type": "markdown",
   "metadata": {},
   "source": [
    "## SARIMAX - Region_Producttype\n",
    "\n",
    "It's region&product_type specific because the df_pred_agg_results_piece. The result collection part and the plot part assumes df is on regional level "
   ]
  },
  {
   "cell_type": "code",
   "execution_count": 18,
   "metadata": {},
   "outputs": [],
   "source": [
    "\n",
    "def predict_sarimax(df,order,seasonal_order,col_exog,plot=0):\n",
    "    try:\n",
    "        df_train=df[:train_end]\n",
    "        df_test=df[predict_start:predict_end]\n",
    "        model = SARIMAX(df_train['stock_distributed'], order=order,seasonal_order=seasonal_order,\n",
    "                        exog=df_train[col_exog])\n",
    "        result=model.fit()\n",
    "        sarima_mean_insample=result.get_prediction(start=df_train.index[0],end=train_end,\n",
    "                                                   exog=df_train[col_exog]).predicted_mean\n",
    "        sarima_mean_outsample=result.get_prediction(start=predict_start,end=predict_end,\n",
    "                                                    exog=df[predict_start:predict_end][col_exog]).predicted_mean\n",
    "        sarima_mean_prediction=sarima_mean_insample.append(sarima_mean_outsample)\n",
    "        region=df.iloc[0].region\n",
    "        product_type=df.iloc[0].product_type\n",
    "        \n",
    "        df_pred_agg_results_piece=pd.DataFrame(data=sarima_mean_prediction,columns=['stock_distributed_forecasted'])\n",
    "        df_pred_agg_results_piece['region']=region\n",
    "        df_pred_agg_results_piece['product_type']=product_type \n",
    "        if plot==1:\n",
    "            pd.DataFrame({'insample_pred':sarima_mean_insample,'outsample_pred':sarima_mean_outsample,'actual_value':df['stock_distributed']}).plot(); \n",
    "            plt.title(region+\"--\"+product_type)\n",
    "            plt.show()\n",
    "        return df_pred_agg_results_piece\n",
    "    except:\n",
    "        print('error')"
   ]
  },
  {
   "cell_type": "markdown",
   "metadata": {},
   "source": [
    "# Import and process data "
   ]
  },
  {
   "cell_type": "markdown",
   "metadata": {},
   "source": [
    "## Import '../0_data/df_combined_fullsample.csv'"
   ]
  },
  {
   "cell_type": "code",
   "execution_count": 19,
   "metadata": {},
   "outputs": [],
   "source": [
    "import pandas as pd\n",
    " #  contraceptive_logistics=pd.read_csv('../0_data/df_combined.csv') \n",
    "contraceptive_logistics=pd.read_csv('../0_data/df_combined_fullsample.csv')\n",
    "contraceptive_logistics['day']=1\n",
    "contraceptive_logistics['date']=pd.to_datetime(contraceptive_logistics[['year','month','day']])\n",
    "contraceptive_logistics=contraceptive_logistics.sort_values('date')"
   ]
  },
  {
   "cell_type": "markdown",
   "metadata": {},
   "source": [
    "## Aggregation on region & product_type level"
   ]
  },
  {
   "cell_type": "code",
   "execution_count": 20,
   "metadata": {},
   "outputs": [],
   "source": [
    "product_agg_sum=contraceptive_logistics.groupby(['region','product_type','date'])['stock_distributed'].sum()\n",
    "df_product_agg_sum=pd.DataFrame(data=product_agg_sum)\n",
    "df_product_agg_sum=df_product_agg_sum.reset_index()"
   ]
  },
  {
   "cell_type": "code",
   "execution_count": 21,
   "metadata": {},
   "outputs": [
    {
     "name": "stdout",
     "output_type": "stream",
     "text": [
      "regionasphaltroads\n",
      "regionearthroads\n",
      "regionsurfacetreatmentroads\n",
      "regionpoorroads\n",
      "poorroads\n",
      "earthroads\n",
      "asphaltroads\n",
      "temp\n",
      "maxtemp\n",
      "pressure\n",
      "relativehumidity\n",
      "rainfallsnowmelt\n",
      "visibility\n",
      "windspeed\n",
      "maxsustainedwindspeed\n",
      "rainordrizzle\n",
      "storm\n",
      "fog\n"
     ]
    }
   ],
   "source": [
    "col_continuous=contraceptive_logistics.columns[10:-1].to_list()\n",
    "col_continuous.remove('site_type')\n",
    "\n",
    "for col in col_continuous:\n",
    "    print(col)\n",
    "    df_product_agg_sum[col]=pd.DataFrame(data=contraceptive_logistics.groupby(['region','product_type','date'])[col].mean().values)\n"
   ]
  },
  {
   "cell_type": "markdown",
   "metadata": {},
   "source": [
    "# SARIMAX"
   ]
  },
  {
   "cell_type": "markdown",
   "metadata": {},
   "source": [
    "- need to write this part "
   ]
  },
  {
   "cell_type": "code",
   "execution_count": 23,
   "metadata": {},
   "outputs": [],
   "source": [
    "col_exog=col_continuous"
   ]
  },
  {
   "cell_type": "code",
   "execution_count": 24,
   "metadata": {},
   "outputs": [
    {
     "name": "stdout",
     "output_type": "stream",
     "text": [
      "GBEKE\n",
      "Oral Contraceptive (Pill)\n",
      "Performing stepwise search to minimize bic\n",
      " ARIMA(2,0,2)(1,0,1)[12] intercept   : BIC=444.909, Time=0.44 sec\n",
      " ARIMA(0,0,0)(0,0,0)[12] intercept   : BIC=461.058, Time=0.01 sec\n",
      " ARIMA(1,0,0)(1,0,0)[12] intercept   : BIC=435.221, Time=0.12 sec\n",
      " ARIMA(0,0,1)(0,0,1)[12] intercept   : BIC=447.600, Time=0.12 sec\n",
      " ARIMA(0,0,0)(0,0,0)[12]             : BIC=515.949, Time=0.00 sec\n",
      " ARIMA(1,0,0)(0,0,0)[12] intercept   : BIC=434.836, Time=0.02 sec\n",
      " ARIMA(1,0,0)(0,0,1)[12] intercept   : BIC=434.037, Time=0.10 sec\n",
      " ARIMA(1,0,0)(1,0,1)[12] intercept   : BIC=437.780, Time=0.14 sec\n",
      " ARIMA(1,0,0)(0,0,2)[12] intercept   : BIC=437.623, Time=0.30 sec\n",
      " ARIMA(1,0,0)(1,0,2)[12] intercept   : BIC=inf, Time=0.69 sec\n",
      " ARIMA(0,0,0)(0,0,1)[12] intercept   : BIC=461.502, Time=0.07 sec\n",
      " ARIMA(2,0,0)(0,0,1)[12] intercept   : BIC=435.519, Time=0.08 sec\n",
      " ARIMA(1,0,1)(0,0,1)[12] intercept   : BIC=435.151, Time=0.14 sec\n",
      " ARIMA(2,0,1)(0,0,1)[12] intercept   : BIC=439.011, Time=0.20 sec\n",
      " ARIMA(1,0,0)(0,0,1)[12]             : BIC=434.693, Time=0.05 sec\n",
      "\n",
      "Best model:  ARIMA(1,0,0)(0,0,1)[12] intercept\n",
      "Total fit time: 2.498 seconds\n",
      "(1, 0, 0)\n",
      "(0, 0, 1, 12)\n"
     ]
    },
    {
     "name": "stderr",
     "output_type": "stream",
     "text": [
      "C:\\Anaconda\\lib\\site-packages\\statsmodels\\tsa\\statespace\\sarimax.py:1006: UserWarning: Non-invertible starting seasonal moving average Using zeros as starting parameters.\n",
      "  warn('Non-invertible starting seasonal moving average'\n",
      "C:\\Anaconda\\lib\\site-packages\\statsmodels\\base\\model.py:568: ConvergenceWarning: Maximum Likelihood optimization failed to converge. Check mle_retvals\n",
      "  \"Check mle_retvals\", ConvergenceWarning)\n"
     ]
    },
    {
     "data": {
      "image/png": "[encoded data removed]",
      "text/plain": [
       "<Figure size 432x288 with 1 Axes>"
      ]
     },
     "metadata": {
      "needs_background": "light"
     },
     "output_type": "display_data"
    },
    {
     "name": "stdout",
     "output_type": "stream",
     "text": [
      "GBOKLE-NAWA-SAN PEDRO\n",
      "Oral Contraceptive (Pill)\n",
      "Performing stepwise search to minimize bic\n",
      " ARIMA(2,0,2)(1,0,1)[12] intercept   : BIC=inf, Time=0.50 sec\n",
      " ARIMA(0,0,0)(0,0,0)[12] intercept   : BIC=647.198, Time=0.00 sec\n",
      " ARIMA(1,0,0)(1,0,0)[12] intercept   : BIC=643.984, Time=0.17 sec\n",
      " ARIMA(0,0,1)(0,0,1)[12] intercept   : BIC=inf, Time=0.14 sec\n",
      " ARIMA(0,0,0)(0,0,0)[12]             : BIC=702.839, Time=0.00 sec\n",
      " ARIMA(1,0,0)(0,0,0)[12] intercept   : BIC=644.552, Time=0.02 sec\n",
      " ARIMA(1,0,0)(2,0,0)[12] intercept   : BIC=645.124, Time=0.50 sec\n",
      " ARIMA(1,0,0)(1,0,1)[12] intercept   : BIC=inf, Time=0.25 sec\n",
      " ARIMA(1,0,0)(0,0,1)[12] intercept   : BIC=inf, Time=0.18 sec\n",
      " ARIMA(1,0,0)(2,0,1)[12] intercept   : BIC=inf, Time=0.62 sec\n",
      " ARIMA(0,0,0)(1,0,0)[12] intercept   : BIC=647.450, Time=0.14 sec\n",
      " ARIMA(2,0,0)(1,0,0)[12] intercept   : BIC=647.853, Time=0.27 sec\n",
      " ARIMA(1,0,1)(1,0,0)[12] intercept   : BIC=647.915, Time=0.14 sec\n",
      " ARIMA(0,0,1)(1,0,0)[12] intercept   : BIC=644.382, Time=0.15 sec\n",
      " ARIMA(2,0,1)(1,0,0)[12] intercept   : BIC=651.623, Time=0.20 sec\n",
      " ARIMA(1,0,0)(1,0,0)[12]             : BIC=655.066, Time=0.06 sec\n",
      "\n",
      "Best model:  ARIMA(1,0,0)(1,0,0)[12] intercept\n",
      "Total fit time: 3.376 seconds\n",
      "(1, 0, 0)\n",
      "(1, 0, 0, 12)\n"
     ]
    },
    {
     "name": "stderr",
     "output_type": "stream",
     "text": [
      "C:\\Anaconda\\lib\\site-packages\\statsmodels\\base\\model.py:568: ConvergenceWarning: Maximum Likelihood optimization failed to converge. Check mle_retvals\n",
      "  \"Check mle_retvals\", ConvergenceWarning)\n"
     ]
    },
    {
     "data": {
      "image/png": "[encoded data removed]",
      "text/plain": [
       "<Figure size 432x288 with 1 Axes>"
      ]
     },
     "metadata": {
      "needs_background": "light"
     },
     "output_type": "display_data"
    }
   ],
   "source": [
    "# test a few \n",
    "df_pred_region_product_type=pd.DataFrame()\n",
    "for region in df_product_agg_sum['region'].unique()[6:8] :\n",
    "    df1=df_product_agg_sum[df_product_agg_sum['region']==region];\n",
    "    for product_type in df1['product_type'].unique()[6:8]:\n",
    "        df2=df1[df1['product_type']==product_type].copy();\n",
    "        df2['date']=pd.to_datetime(df2['date']);\n",
    "        df2=df2.set_index(['date']);\n",
    "        df2=df2.resample('MS').fillna('nearest')\n",
    "        print(region)\n",
    "        print(product_type)\n",
    "        #fit_and_plot_forecast(df2)\n",
    "        if(len(df2)>10):\n",
    "            [order,seasonal_order]=auto_arima(df2,col_exog); \n",
    "            #result_piece= predict_sarimax(df2,order,seasonal_order,col_exog);\n",
    "            result_piece= predict_sarimax(df2,order,seasonal_order,col_exog,plot=1);\n",
    "            df_pred_region_product_type=pd.concat([df_pred_region_product_type,result_piece])"
   ]
  },
  {
   "cell_type": "markdown",
   "metadata": {},
   "source": [
    "## Export : '../2_pipeline/final_pred_region_producttype_lev.csv'"
   ]
  },
  {
   "cell_type": "code",
   "execution_count": null,
   "metadata": {},
   "outputs": [],
   "source": [
    "df_pred_region_product_type=pd.DataFrame()\n",
    "for region in df_product_agg_sum['region'].unique()[6:8] :\n",
    "    df1=df_product_agg_sum[df_product_agg_sum['region']==region];\n",
    "    for product_type in df1['product_type'].unique()[6:8]:\n",
    "        df2=df1[df1['product_type']==product_type].copy();\n",
    "        df2['date']=pd.to_datetime(df2['date']);\n",
    "        df2=df2.set_index(['date']);\n",
    "        df2=df2.resample('MS').fillna('nearest')\n",
    "        print(region)\n",
    "        print(product_type)\n",
    "        #fit_and_plot_forecast(df2)\n",
    "        if(len(df2)>10):\n",
    "            [order,seasonal_order]=auto_arima(df2,col_exog); \n",
    "            #result_piece= predict_sarimax(df2,order,seasonal_order,col_exog);\n",
    "            result_piece= predict_sarimax(df2,order,seasonal_order,col_exog,plot=1);\n",
    "            df_pred_region_product_type=pd.concat([df_pred_region_product_type,result_piece])\n",
    "df_pred_region_product_type.to_csv('../2_pipeline/final_pred_region_producttype_lev.csv')"
   ]
  },
  {
   "cell_type": "markdown",
   "metadata": {},
   "source": [
    "# Distribute "
   ]
  },
  {
   "cell_type": "code",
   "execution_count": 3,
   "metadata": {},
   "outputs": [
    {
     "data": {
      "text/html": [
       "<div>\n",
       "<style scoped>\n",
       "    .dataframe tbody tr th:only-of-type {\n",
       "        vertical-align: middle;\n",
       "    }\n",
       "\n",
       "    .dataframe tbody tr th {\n",
       "        vertical-align: top;\n",
       "    }\n",
       "\n",
       "    .dataframe thead th {\n",
       "        text-align: right;\n",
       "    }\n",
       "</style>\n",
       "<table border=\"1\" class=\"dataframe\">\n",
       "  <thead>\n",
       "    <tr style=\"text-align: right;\">\n",
       "      <th></th>\n",
       "      <th>date</th>\n",
       "      <th>site_code</th>\n",
       "      <th>product_code</th>\n",
       "      <th>year</th>\n",
       "      <th>month</th>\n",
       "      <th>stock_distributed</th>\n",
       "      <th>region</th>\n",
       "      <th>district</th>\n",
       "      <th>product_type</th>\n",
       "      <th>regionroads</th>\n",
       "      <th>...</th>\n",
       "      <th>pressure</th>\n",
       "      <th>relativehumidity</th>\n",
       "      <th>rainfallsnowmelt</th>\n",
       "      <th>visibility</th>\n",
       "      <th>windspeed</th>\n",
       "      <th>maxsustainedwindspeed</th>\n",
       "      <th>rainordrizzle</th>\n",
       "      <th>storm</th>\n",
       "      <th>fog</th>\n",
       "      <th>day</th>\n",
       "    </tr>\n",
       "  </thead>\n",
       "  <tbody>\n",
       "    <tr>\n",
       "      <th>43603</th>\n",
       "      <td>2019-12-01</td>\n",
       "      <td>C3012</td>\n",
       "      <td>AS27134</td>\n",
       "      <td>2019</td>\n",
       "      <td>12</td>\n",
       "      <td>0.0</td>\n",
       "      <td>PORO-TCHOLOGO-BAGOUE</td>\n",
       "      <td>FERKESSEDOUGOU</td>\n",
       "      <td>Injectable Contraceptive</td>\n",
       "      <td>191.000000</td>\n",
       "      <td>...</td>\n",
       "      <td>1011.5000</td>\n",
       "      <td>30.20000</td>\n",
       "      <td>0.00000</td>\n",
       "      <td>5.200000</td>\n",
       "      <td>6.600000</td>\n",
       "      <td>12.700000</td>\n",
       "      <td>0.000000</td>\n",
       "      <td>0.000000</td>\n",
       "      <td>0.000000</td>\n",
       "      <td>1</td>\n",
       "    </tr>\n",
       "    <tr>\n",
       "      <th>42694</th>\n",
       "      <td>2019-12-01</td>\n",
       "      <td>C1701</td>\n",
       "      <td>AS27133</td>\n",
       "      <td>2019</td>\n",
       "      <td>12</td>\n",
       "      <td>0.0</td>\n",
       "      <td>AGNEBY-TIASSA-ME</td>\n",
       "      <td>TIASSALE</td>\n",
       "      <td>Injectable Contraceptive</td>\n",
       "      <td>98.000000</td>\n",
       "      <td>...</td>\n",
       "      <td>598.9047</td>\n",
       "      <td>78.26958</td>\n",
       "      <td>91.83673</td>\n",
       "      <td>8.567444</td>\n",
       "      <td>7.227927</td>\n",
       "      <td>14.248726</td>\n",
       "      <td>8.856819</td>\n",
       "      <td>8.747553</td>\n",
       "      <td>1.313337</td>\n",
       "      <td>1</td>\n",
       "    </tr>\n",
       "    <tr>\n",
       "      <th>44503</th>\n",
       "      <td>2019-12-01</td>\n",
       "      <td>C5076</td>\n",
       "      <td>AS46000</td>\n",
       "      <td>2019</td>\n",
       "      <td>12</td>\n",
       "      <td>0.0</td>\n",
       "      <td>KABADOUGOU-BAFING-FOLON</td>\n",
       "      <td>KORO</td>\n",
       "      <td>NaN</td>\n",
       "      <td>97.381154</td>\n",
       "      <td>...</td>\n",
       "      <td>598.9047</td>\n",
       "      <td>78.26958</td>\n",
       "      <td>91.83673</td>\n",
       "      <td>8.567444</td>\n",
       "      <td>7.227927</td>\n",
       "      <td>14.248726</td>\n",
       "      <td>8.856819</td>\n",
       "      <td>8.747553</td>\n",
       "      <td>1.313337</td>\n",
       "      <td>1</td>\n",
       "    </tr>\n",
       "  </tbody>\n",
       "</table>\n",
       "<p>3 rows × 30 columns</p>\n",
       "</div>"
      ],
      "text/plain": [
       "            date site_code product_code  year  month  stock_distributed  \\\n",
       "43603 2019-12-01     C3012      AS27134  2019     12                0.0   \n",
       "42694 2019-12-01     C1701      AS27133  2019     12                0.0   \n",
       "44503 2019-12-01     C5076      AS46000  2019     12                0.0   \n",
       "\n",
       "                        region        district              product_type  \\\n",
       "43603     PORO-TCHOLOGO-BAGOUE  FERKESSEDOUGOU  Injectable Contraceptive   \n",
       "42694         AGNEBY-TIASSA-ME        TIASSALE  Injectable Contraceptive   \n",
       "44503  KABADOUGOU-BAFING-FOLON            KORO                       NaN   \n",
       "\n",
       "       regionroads  ...   pressure  relativehumidity  rainfallsnowmelt  \\\n",
       "43603   191.000000  ...  1011.5000          30.20000           0.00000   \n",
       "42694    98.000000  ...   598.9047          78.26958          91.83673   \n",
       "44503    97.381154  ...   598.9047          78.26958          91.83673   \n",
       "\n",
       "       visibility  windspeed  maxsustainedwindspeed  rainordrizzle     storm  \\\n",
       "43603    5.200000   6.600000              12.700000       0.000000  0.000000   \n",
       "42694    8.567444   7.227927              14.248726       8.856819  8.747553   \n",
       "44503    8.567444   7.227927              14.248726       8.856819  8.747553   \n",
       "\n",
       "            fog  day  \n",
       "43603  0.000000    1  \n",
       "42694  1.313337    1  \n",
       "44503  1.313337    1  \n",
       "\n",
       "[3 rows x 30 columns]"
      ]
     },
     "execution_count": 3,
     "metadata": {},
     "output_type": "execute_result"
    }
   ],
   "source": [
    "contraceptive_logistics.tail(3)"
   ]
  },
  {
   "cell_type": "code",
   "execution_count": 4,
   "metadata": {},
   "outputs": [
    {
     "data": {
      "text/plain": [
       "(44504,)"
      ]
     },
     "execution_count": 4,
     "metadata": {},
     "output_type": "execute_result"
    }
   ],
   "source": [
    "contraceptive_logistics['group_sum']=contraceptive_logistics.groupby(['product_type','region','date'])['stock_distributed'].transform('sum') \n",
    "contraceptive_logistics['share']=contraceptive_logistics['stock_distributed']/contraceptive_logistics['group_sum'] \n",
    "y=contraceptive_logistics.share.fillna(0)\n",
    "y.shape"
   ]
  },
  {
   "cell_type": "code",
   "execution_count": 5,
   "metadata": {},
   "outputs": [],
   "source": [
    "from sklearn.preprocessing import OneHotEncoder\n"
   ]
  },
  {
   "cell_type": "code",
   "execution_count": 6,
   "metadata": {},
   "outputs": [],
   "source": [
    "columns_to_encode=['site_code', 'product_code', 'year', 'month',\n",
    "       'region', 'district', 'product_type','site_type'] # categorical \n",
    "columns_continuous=['regionroads',\n",
    "       'regionasphaltroads', 'regionearthroads', 'regionsurfacetreatmentroads',\n",
    "       'regionpoorroads', 'poorroads', 'earthroads', 'asphaltroads', 'temp',\n",
    "       'maxtemp', 'pressure', 'relativehumidity', 'rainfallsnowmelt',\n",
    "       'visibility', 'windspeed', 'maxsustainedwindspeed', 'rainordrizzle',\n",
    "       'storm', 'fog'] # continuous \n",
    "\n",
    "ohe = OneHotEncoder(sparse=False,categories='auto')\n",
    "encoded_columns =  ohe.fit_transform(contraceptive_logistics[columns_to_encode].fillna('NA'))\n",
    "\n",
    " \n",
    "\n",
    "features=pd.DataFrame(data=encoded_columns,columns=ohe.get_feature_names(columns_to_encode))\n",
    "features[columns_continuous]=contraceptive_logistics[columns_continuous]"
   ]
  },
  {
   "cell_type": "code",
   "execution_count": 7,
   "metadata": {},
   "outputs": [
    {
     "data": {
      "text/plain": [
       "(44504, 314)"
      ]
     },
     "execution_count": 7,
     "metadata": {},
     "output_type": "execute_result"
    }
   ],
   "source": [
    "X=features\n",
    "X.shape"
   ]
  },
  {
   "cell_type": "markdown",
   "metadata": {},
   "source": [
    "## Train Test Split"
   ]
  },
  {
   "cell_type": "code",
   "execution_count": 8,
   "metadata": {},
   "outputs": [],
   "source": [
    "train_end\n",
    "\n",
    "X.index\n",
    "\n",
    "contraceptive_logistics.shape\n",
    "\n",
    "contraceptive_logistics.set_index('date')[:train_end].shape[0]\n",
    "\n",
    "train_length=contraceptive_logistics.set_index('date')[:train_end].shape[0]\n",
    "\n",
    "X_train=X[:train_length]\n",
    "y_train=y[:train_length]"
   ]
  },
  {
   "cell_type": "markdown",
   "metadata": {},
   "source": [
    "## Random Forest Model"
   ]
  },
  {
   "cell_type": "code",
   "execution_count": 9,
   "metadata": {},
   "outputs": [
    {
     "data": {
      "text/plain": [
       "[]"
      ]
     },
     "execution_count": 9,
     "metadata": {},
     "output_type": "execute_result"
    }
   ],
   "source": [
    "X_train.columns[X_train.isna().any()].tolist()"
   ]
  },
  {
   "cell_type": "code",
   "execution_count": 10,
   "metadata": {},
   "outputs": [],
   "source": [
    "from sklearn.ensemble import RandomForestRegressor\n",
    "regr = RandomForestRegressor(max_depth=30,n_estimators=10,random_state=21)\n",
    "regr.fit(X_train , y_train)\n",
    "y_pred=regr.predict(X)\n",
    " "
   ]
  },
  {
   "cell_type": "code",
   "execution_count": 11,
   "metadata": {},
   "outputs": [
    {
     "data": {
      "text/plain": [
       "44504"
      ]
     },
     "execution_count": 11,
     "metadata": {},
     "output_type": "execute_result"
    }
   ],
   "source": [
    "len(y_pred)"
   ]
  },
  {
   "cell_type": "markdown",
   "metadata": {},
   "source": [
    "## Export Distribute Region-Product_type Level Result  ../2_pipeline/final_distribute_regionproducttypelev.csv'"
   ]
  },
  {
   "cell_type": "code",
   "execution_count": 12,
   "metadata": {},
   "outputs": [],
   "source": [
    "distribute_agglev=contraceptive_logistics[['date','region','site_code','product_code','product_type','stock_distributed']].copy()\n",
    "distribute_agglev['pred_share_regionproducttype_tlev']=y_pred \n",
    "distribute_agglev['agg_level']='district'\n",
    "col_export_distribute_agg=['date','region','product_type','site_code','product_code', 'pred_share_regionproducttype_tlev','agg_level']\n",
    "distribute_agglev[col_export_distribute_agg].to_csv('../2_pipeline/final_distribute_regionproducttypelev.csv')"
   ]
  },
  {
   "cell_type": "code",
   "execution_count": 13,
   "metadata": {},
   "outputs": [
    {
     "data": {
      "text/plain": [
       "44504"
      ]
     },
     "execution_count": 13,
     "metadata": {},
     "output_type": "execute_result"
    }
   ],
   "source": [
    "len(distribute_agglev)"
   ]
  },
  {
   "cell_type": "code",
   "execution_count": 14,
   "metadata": {},
   "outputs": [
    {
     "data": {
      "text/html": [
       "<div>\n",
       "<style scoped>\n",
       "    .dataframe tbody tr th:only-of-type {\n",
       "        vertical-align: middle;\n",
       "    }\n",
       "\n",
       "    .dataframe tbody tr th {\n",
       "        vertical-align: top;\n",
       "    }\n",
       "\n",
       "    .dataframe thead th {\n",
       "        text-align: right;\n",
       "    }\n",
       "</style>\n",
       "<table border=\"1\" class=\"dataframe\">\n",
       "  <thead>\n",
       "    <tr style=\"text-align: right;\">\n",
       "      <th></th>\n",
       "      <th>date</th>\n",
       "      <th>region</th>\n",
       "      <th>site_code</th>\n",
       "      <th>product_code</th>\n",
       "      <th>product_type</th>\n",
       "      <th>stock_distributed</th>\n",
       "      <th>pred_share_regionproducttype_tlev</th>\n",
       "      <th>agg_level</th>\n",
       "    </tr>\n",
       "  </thead>\n",
       "  <tbody>\n",
       "    <tr>\n",
       "      <th>14324</th>\n",
       "      <td>2016-01-01</td>\n",
       "      <td>AGNEBY-TIASSA-ME</td>\n",
       "      <td>C1098</td>\n",
       "      <td>AS27137</td>\n",
       "      <td>Contraceptive Implant</td>\n",
       "      <td>0.0</td>\n",
       "      <td>0.050406</td>\n",
       "      <td>district</td>\n",
       "    </tr>\n",
       "    <tr>\n",
       "      <th>26460</th>\n",
       "      <td>2016-01-01</td>\n",
       "      <td>BELIER</td>\n",
       "      <td>C2068</td>\n",
       "      <td>AS46000</td>\n",
       "      <td>Male Condom</td>\n",
       "      <td>0.0</td>\n",
       "      <td>0.008019</td>\n",
       "      <td>district</td>\n",
       "    </tr>\n",
       "    <tr>\n",
       "      <th>11574</th>\n",
       "      <td>2016-01-01</td>\n",
       "      <td>SUD-COMOE</td>\n",
       "      <td>C1087</td>\n",
       "      <td>AS27000</td>\n",
       "      <td>Oral Contraceptive (Pill)</td>\n",
       "      <td>50.0</td>\n",
       "      <td>0.239354</td>\n",
       "      <td>district</td>\n",
       "    </tr>\n",
       "    <tr>\n",
       "      <th>34391</th>\n",
       "      <td>2016-01-01</td>\n",
       "      <td>BOUNKANI-GONTOUGO</td>\n",
       "      <td>C4018</td>\n",
       "      <td>AS27139</td>\n",
       "      <td>Emergency Contraceptive (Pill)</td>\n",
       "      <td>0.0</td>\n",
       "      <td>0.090776</td>\n",
       "      <td>district</td>\n",
       "    </tr>\n",
       "    <tr>\n",
       "      <th>32742</th>\n",
       "      <td>2016-01-01</td>\n",
       "      <td>BOUNKANI-GONTOUGO</td>\n",
       "      <td>C4002</td>\n",
       "      <td>AS27132</td>\n",
       "      <td>Oral Contraceptive (Pill)</td>\n",
       "      <td>0.0</td>\n",
       "      <td>0.041012</td>\n",
       "      <td>district</td>\n",
       "    </tr>\n",
       "  </tbody>\n",
       "</table>\n",
       "</div>"
      ],
      "text/plain": [
       "            date             region site_code product_code  \\\n",
       "14324 2016-01-01   AGNEBY-TIASSA-ME     C1098      AS27137   \n",
       "26460 2016-01-01             BELIER     C2068      AS46000   \n",
       "11574 2016-01-01          SUD-COMOE     C1087      AS27000   \n",
       "34391 2016-01-01  BOUNKANI-GONTOUGO     C4018      AS27139   \n",
       "32742 2016-01-01  BOUNKANI-GONTOUGO     C4002      AS27132   \n",
       "\n",
       "                         product_type  stock_distributed  \\\n",
       "14324           Contraceptive Implant                0.0   \n",
       "26460                     Male Condom                0.0   \n",
       "11574       Oral Contraceptive (Pill)               50.0   \n",
       "34391  Emergency Contraceptive (Pill)                0.0   \n",
       "32742       Oral Contraceptive (Pill)                0.0   \n",
       "\n",
       "       pred_share_regionproducttype_tlev agg_level  \n",
       "14324                           0.050406  district  \n",
       "26460                           0.008019  district  \n",
       "11574                           0.239354  district  \n",
       "34391                           0.090776  district  \n",
       "32742                           0.041012  district  "
      ]
     },
     "execution_count": 14,
     "metadata": {},
     "output_type": "execute_result"
    }
   ],
   "source": [
    "distribute_agglev.head()"
   ]
  }
 ],
 "metadata": {
  "kernelspec": {
   "display_name": "Python 3",
   "language": "python",
   "name": "python3"
  },
  "language_info": {
   "codemirror_mode": {
    "name": "ipython",
    "version": 3
   },
   "file_extension": ".py",
   "mimetype": "text/x-python",
   "name": "python",
   "nbconvert_exporter": "python",
   "pygments_lexer": "ipython3",
   "version": "3.7.3"
  }
 },
 "nbformat": 4,
 "nbformat_minor": 4
}
