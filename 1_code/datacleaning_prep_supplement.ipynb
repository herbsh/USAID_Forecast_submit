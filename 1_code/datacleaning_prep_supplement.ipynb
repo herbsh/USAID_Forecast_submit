{
 "cells": [
  {
   "cell_type": "markdown",
   "metadata": {},
   "source": [
    "# Prepare supplement data - the ones that needed to use Stata to create "
   ]
  },
  {
   "cell_type": "markdown",
   "metadata": {},
   "source": [
    "## Input: \"..\\0_data\\contraceptive_logistics_data_product_site.csv\" "
   ]
  },
  {
   "cell_type": "code",
   "execution_count": 1,
   "metadata": {},
   "outputs": [
    {
     "name": "stdout",
     "output_type": "stream",
     "text": [
      "\n",
      "(50 vars, 38,842 obs)\n",
      "\n"
     ]
    }
   ],
   "source": [
    "import delimited \"..\\0_data\\supplement_data_raw.csv\", clear \n",
    "sort site_code product_code year month\n"
   ]
  },
  {
   "cell_type": "code",
   "execution_count": 2,
   "metadata": {},
   "outputs": [
    {
     "name": "stdout",
     "output_type": "stream",
     "text": [
      "\n",
      "           |                                                                month\n",
      "      year |         1          2          3          4          5          6          7          8          9         10         11         12 |     Total\n",
      "-----------+------------------------------------------------------------------------------------------------------------------------------------+----------\n",
      "      2016 |       477        495        613        622        633        665        684        719        744        770        811        798 |     8,031 \n",
      "      2017 |       833        830        831        831        842        847        881        882        891        891        901        896 |    10,356 \n",
      "      2018 |       898        896        905        906        912        915        927        949        951        967        965      1,001 |    11,192 \n",
      "      2019 |     1,014      1,002      1,006      1,068      1,052      1,032      1,035      1,025      1,029          0          0          0 |     9,263 \n",
      "-----------+------------------------------------------------------------------------------------------------------------------------------------+----------\n",
      "     Total |     3,222      3,223      3,355      3,427      3,439      3,459      3,527      3,575      3,615      2,628      2,677      2,695 |    38,842 \n",
      "\n"
     ]
    }
   ],
   "source": [
    "tab year month"
   ]
  },
  {
   "cell_type": "markdown",
   "metadata": {},
   "source": [
    "## road conditions "
   ]
  },
  {
   "cell_type": "code",
   "execution_count": 3,
   "metadata": {},
   "outputs": [
    {
     "name": "stdout",
     "output_type": "stream",
     "text": [
      "\n",
      "\n",
      "(17,802 real changes made)\n",
      "\n",
      "\n",
      "(19,836 real changes made)\n",
      "\n",
      "\n",
      "(19,980 real changes made)\n"
     ]
    }
   ],
   "source": [
    "gen poorroads = 0\n",
    "replace poorroads = 1 if percentregpoor > 0\n",
    "\n",
    "gen earthroads = 0\n",
    "replace earthroads = 1  if percentregearth > 0.7\n",
    "\n",
    "gen asphaltroads = 0\n",
    "replace asphaltroads  = 1 if precentregasphalt > 0.14"
   ]
  },
  {
   "cell_type": "code",
   "execution_count": 4,
   "metadata": {},
   "outputs": [
    {
     "name": "stdout",
     "output_type": "stream",
     "text": [
      "\n",
      "    Variable |        Obs        Mean    Std. Dev.       Min        Max\n",
      "-------------+---------------------------------------------------------\n",
      "        year |     38,842    2017.558    1.066351       2016       2019\n",
      "       month |     38,842     6.31484    3.334871          1         12\n",
      "      region |          0\n",
      "    district |          0\n",
      " regioncount |     38,842      1.6425    .8138081          1          3\n",
      "-------------+---------------------------------------------------------\n",
      "  cidistrict |          0\n",
      "   site_code |          0\n",
      "product_code |          0\n",
      "stock_init~l |     38,842    63.04477     168.974          0       4320\n",
      "stock_rece~d |     38,842    14.88796    69.96329          0       3534\n",
      "-------------+---------------------------------------------------------\n",
      "stock_dist~d |     38,842     14.9388    40.61266          0       1805\n",
      "stock_adju~t |     38,842    .9978116    39.11994      -1440       3003\n",
      "   stock_end |     38,842    63.99174     171.053          0       4320\n",
      "average_mo~n |     38,842    14.84002    33.05905          0        864\n",
      "stock_stoc~s |     38,842     .192884    2.747864          0        300\n",
      "-------------+---------------------------------------------------------\n",
      "stock_orde~d |     38,072    26.18843    104.0464          0      10240\n",
      "product_type |          0\n",
      "product_name |          0\n",
      "   site_type |          0\n",
      " site_region |          0\n",
      "-------------+---------------------------------------------------------\n",
      "site_distr~t |          0\n",
      "site_latit~e |     38,842    6.531278     1.40844    4.41088     10.495\n",
      "site_longi~e |     38,842   -4.980813    1.320374  -8.412813   -2.79837\n",
      " regionroads |     38,842    97.73706    56.69042         15        206\n",
      "regionasph~s |     38,842    12.33819    9.941247          0         25\n",
      "-------------+---------------------------------------------------------\n",
      "regioneart~s |     38,842    69.66366    52.21122          9        184\n",
      "regionsurf~s |     38,842    15.73521    10.75264          0         51\n",
      "regionpoor~s |     38,842    4.938881     6.44717          0         19\n",
      "precentreg~t |     38,842    .1377452    .1196882          0   .3205128\n",
      "percentreg~h |     38,842     .662941    .1423708   .4358974   .9090909\n",
      "-------------+---------------------------------------------------------\n",
      "persentreg~e |     38,842    .1993138    .1093818          0         .4\n",
      "percentreg~r |     38,842    .0459854    .0609968          0   .2045455\n",
      "usaiddistr~t |          0\n",
      " usaidregion |          0\n",
      "        temp |     37,047    27.04639    2.096561          0         31\n",
      "-------------+---------------------------------------------------------\n",
      "     maxtemp |     37,047    31.39234    3.242567          0       64.6\n",
      "     mintemp |     37,047    23.35241    2.123965          0       26.4\n",
      "    pressure |     37,047    598.8552    497.3526          0     1016.7\n",
      "relativehu~y |     37,047    78.51473    13.78235          0     129.02\n",
      "rainfallsn~t |     37,047    95.48327     94.3998          0      870.2\n",
      "-------------+---------------------------------------------------------\n",
      "  visibility |     37,047    8.565187    1.452478          0         10\n",
      "   windspeed |     37,047    7.287332    4.684932          0         21\n",
      "maxsustain~d |     37,047    14.30023    8.423586          0       39.1\n",
      "maxwindspeed |     37,047           0           0          0          0\n",
      "rainordriz~e |     37,047    9.235242    6.491388          0         26\n",
      "-------------+---------------------------------------------------------\n",
      "        snow |     37,047    .0278295    .1712402          0          2\n",
      "       storm |     37,047    8.687262    7.128639          0         27\n",
      "         fog |     37,047    1.282371    2.814896          0         23\n",
      " missingdays |     37,996    4.173123    6.967315          0         31\n",
      "        join |          0\n",
      "-------------+---------------------------------------------------------\n",
      "   poorroads |     38,842    .4583183     .498266          0          1\n",
      "  earthroads |     38,842    .5106843    .4998923          0          1\n",
      "asphaltroads |     38,842    .5143916    .4997993          0          1\n"
     ]
    }
   ],
   "source": [
    "su"
   ]
  },
  {
   "cell_type": "markdown",
   "metadata": {},
   "source": [
    "## Time invariant variables: keep \"site_code product_code region district\" as identifiers for matching, the other variables are informations "
   ]
  },
  {
   "cell_type": "code",
   "execution_count": 5,
   "metadata": {},
   "outputs": [
    {
     "name": "stdout",
     "output_type": "stream",
     "text": [
      "\n",
      "\n",
      "\n",
      "\n",
      "Duplicates in terms of all variables\n",
      "\n",
      "(37,485 observations deleted)\n",
      "\n",
      "\n",
      "    Variable |        Obs        Mean    Std. Dev.       Min        Max\n",
      "-------------+---------------------------------------------------------\n",
      "      region |          0\n",
      "    district |          0\n",
      "   site_code |          0\n",
      "product_code |          0\n",
      "product_type |          0\n",
      "-------------+---------------------------------------------------------\n",
      " regionroads |      1,357    99.65291     59.0284         15        206\n",
      "regionasph~s |      1,357    12.00442    9.979772          0         25\n",
      "regioneart~s |      1,357    72.07738    54.50041          9        184\n",
      "regionsurf~s |      1,357    15.57111    10.90589          0         51\n",
      "regionpoor~s |      1,357    4.871039    6.329126          0         19\n",
      "-------------+---------------------------------------------------------\n",
      "   poorroads |      1,357    .4664702    .4990584          0          1\n",
      "  earthroads |      1,357    .5239499    .4996102          0          1\n",
      "asphaltroads |      1,357    .4812085     .499831          0          1\n",
      "\n",
      "(note: file ../0_data/time_invariant_supplement.dta not found)\n",
      "file ../0_data/time_invariant_supplement.dta saved\n",
      "\n"
     ]
    }
   ],
   "source": [
    "preserve \n",
    "\n",
    "keep  site_code product_code  region district product_type   *roads\n",
    "duplicates drop\n",
    "su\n",
    "save \"../0_data/time_invariant_supplement.dta\", replace \n",
    "restore "
   ]
  },
  {
   "cell_type": "markdown",
   "metadata": {},
   "source": [
    "## Time variant variables - keep \"month year site_code product_code region district\"   as identifiers for matching, the others variables are informations"
   ]
  },
  {
   "cell_type": "markdown",
   "metadata": {},
   "source": [
    "### Generate a time index"
   ]
  },
  {
   "cell_type": "code",
   "execution_count": 6,
   "metadata": {},
   "outputs": [],
   "source": [
    "gen temp_timeindex=ym(year,month)"
   ]
  },
  {
   "cell_type": "code",
   "execution_count": 7,
   "metadata": {},
   "outputs": [
    {
     "name": "stdout",
     "output_type": "stream",
     "text": [
      "\n",
      "    Variable |        Obs        Mean    Std. Dev.       Min        Max\n",
      "-------------+---------------------------------------------------------\n",
      "        year |     38,842    2017.558    1.066351       2016       2019\n",
      "       month |     38,842     6.31484    3.334871          1         12\n",
      "      region |          0\n",
      "    district |          0\n",
      " regioncount |     38,842      1.6425    .8138081          1          3\n",
      "-------------+---------------------------------------------------------\n",
      "  cidistrict |          0\n",
      "   site_code |          0\n",
      "product_code |          0\n",
      "stock_init~l |     38,842    63.04477     168.974          0       4320\n",
      "stock_rece~d |     38,842    14.88796    69.96329          0       3534\n",
      "-------------+---------------------------------------------------------\n",
      "stock_dist~d |     38,842     14.9388    40.61266          0       1805\n",
      "stock_adju~t |     38,842    .9978116    39.11994      -1440       3003\n",
      "   stock_end |     38,842    63.99174     171.053          0       4320\n",
      "average_mo~n |     38,842    14.84002    33.05905          0        864\n",
      "stock_stoc~s |     38,842     .192884    2.747864          0        300\n",
      "-------------+---------------------------------------------------------\n",
      "stock_orde~d |     38,072    26.18843    104.0464          0      10240\n",
      "product_type |          0\n",
      "product_name |          0\n",
      "   site_type |          0\n",
      " site_region |          0\n",
      "-------------+---------------------------------------------------------\n",
      "site_distr~t |          0\n",
      "site_latit~e |     38,842    6.531278     1.40844    4.41088     10.495\n",
      "site_longi~e |     38,842   -4.980813    1.320374  -8.412813   -2.79837\n",
      " regionroads |     38,842    97.73706    56.69042         15        206\n",
      "regionasph~s |     38,842    12.33819    9.941247          0         25\n",
      "-------------+---------------------------------------------------------\n",
      "regioneart~s |     38,842    69.66366    52.21122          9        184\n",
      "regionsurf~s |     38,842    15.73521    10.75264          0         51\n",
      "regionpoor~s |     38,842    4.938881     6.44717          0         19\n",
      "precentreg~t |     38,842    .1377452    .1196882          0   .3205128\n",
      "percentreg~h |     38,842     .662941    .1423708   .4358974   .9090909\n",
      "-------------+---------------------------------------------------------\n",
      "persentreg~e |     38,842    .1993138    .1093818          0         .4\n",
      "percentreg~r |     38,842    .0459854    .0609968          0   .2045455\n",
      "usaiddistr~t |          0\n",
      " usaidregion |          0\n",
      "        temp |     37,047    27.04639    2.096561          0         31\n",
      "-------------+---------------------------------------------------------\n",
      "     maxtemp |     37,047    31.39234    3.242567          0       64.6\n",
      "     mintemp |     37,047    23.35241    2.123965          0       26.4\n",
      "    pressure |     37,047    598.8552    497.3526          0     1016.7\n",
      "relativehu~y |     37,047    78.51473    13.78235          0     129.02\n",
      "rainfallsn~t |     37,047    95.48327     94.3998          0      870.2\n",
      "-------------+---------------------------------------------------------\n",
      "  visibility |     37,047    8.565187    1.452478          0         10\n",
      "   windspeed |     37,047    7.287332    4.684932          0         21\n",
      "maxsustain~d |     37,047    14.30023    8.423586          0       39.1\n",
      "maxwindspeed |     37,047           0           0          0          0\n",
      "rainordriz~e |     37,047    9.235242    6.491388          0         26\n",
      "-------------+---------------------------------------------------------\n",
      "        snow |     37,047    .0278295    .1712402          0          2\n",
      "       storm |     37,047    8.687262    7.128639          0         27\n",
      "         fog |     37,047    1.282371    2.814896          0         23\n",
      " missingdays |     37,996    4.173123    6.967315          0         31\n",
      "        join |          0\n",
      "-------------+---------------------------------------------------------\n",
      "   poorroads |     38,842    .4583183     .498266          0          1\n",
      "  earthroads |     38,842    .5106843    .4998923          0          1\n",
      "asphaltroads |     38,842    .5143916    .4997993          0          1\n",
      "temp_timei~x |     38,842    696.0149    12.59213        672        716\n"
     ]
    }
   ],
   "source": [
    "su"
   ]
  },
  {
   "cell_type": "code",
   "execution_count": 8,
   "metadata": {},
   "outputs": [
    {
     "name": "stdout",
     "output_type": "stream",
     "text": [
      "\n",
      "\n",
      "       panel variable:  product_site_id (unbalanced)\n",
      "        time variable:  temp_timein~x, 672 to 716, but with gaps\n",
      "                delta:  1 unit\n"
     ]
    }
   ],
   "source": [
    "egen product_site_id=group(site_code product_code)\n",
    "xtset  product_site_id temp_timeindex"
   ]
  },
  {
   "cell_type": "code",
   "execution_count": 9,
   "metadata": {},
   "outputs": [
    {
     "name": "stdout",
     "output_type": "stream",
     "text": [
      "\n",
      "\n",
      "    Variable |        Obs        Mean    Std. Dev.       Min        Max\n",
      "-------------+---------------------------------------------------------\n",
      "product_si~d |     38,842    659.6362    384.9029          1       1357\n",
      "\n",
      "\n",
      "site_code:  (2,506 real changes made)\n",
      "product_code:  (2,506 real changes made)\n",
      "region:  (2,506 real changes made)\n",
      "district:  (2,506 real changes made)\n",
      "maxtemp:  (3,444 real changes made)\n",
      "temp:  (3,444 real changes made)\n",
      "pressure:  (3,444 real changes made)\n",
      "relativehumidity:  (3,444 real changes made)\n",
      "rainfallsnowmelt:  (3,444 real changes made)\n",
      "rainordrizzle:  (3,444 real changes made)\n",
      "visibility:  (3,444 real changes made)\n",
      "windspeed:  (3,444 real changes made)\n",
      "maxsustainedwindspeed:  (3,444 real changes made)\n",
      "storm:  (3,444 real changes made)\n",
      "fog:  (3,444 real changes made)\n",
      "regionroads:  (2,506 real changes made)\n",
      "regionasphaltroads:  (2,506 real changes made)\n",
      "regionearthroads:  (2,506 real changes made)\n",
      "regionsurfacetreatmentroads:  (2,506 real changes made)\n",
      "regionpoorroads:  (2,506 real changes made)\n",
      "poorroads:  (2,506 real changes made)\n",
      "earthroads:  (2,506 real changes made)\n",
      "asphaltroads:  (2,506 real changes made)\n",
      "\n",
      "\n",
      "    Variable |        Obs        Mean    Std. Dev.       Min        Max\n",
      "-------------+---------------------------------------------------------\n",
      "product_si~d |     41,348    656.5293    387.6272          1       1357\n"
     ]
    }
   ],
   "source": [
    "su product_site_id\n",
    "tsfill \n",
    "bysort product_site_id: carryforward site_code product_code region district maxtemp temp pressure relative* rain* visibility windspeed maxsus* storm fog *roads , replace\n",
    "su product_site_id"
   ]
  },
  {
   "cell_type": "code",
   "execution_count": 10,
   "metadata": {},
   "outputs": [
    {
     "name": "stdout",
     "output_type": "stream",
     "text": [
      "(2,506 real changes made)\n"
     ]
    }
   ],
   "source": [
    "replace year=int(temp_timeindex/12)+1960 if year==."
   ]
  },
  {
   "cell_type": "code",
   "execution_count": 11,
   "metadata": {},
   "outputs": [
    {
     "name": "stdout",
     "output_type": "stream",
     "text": [
      "(2,506 real changes made)\n"
     ]
    }
   ],
   "source": [
    "replace month=(1+temp_timeindex-(year-1960)*12) if month==. "
   ]
  },
  {
   "cell_type": "markdown",
   "metadata": {},
   "source": [
    "## Not sure why it still has gaps after tsfill "
   ]
  },
  {
   "cell_type": "code",
   "execution_count": 12,
   "metadata": {},
   "outputs": [
    {
     "name": "stdout",
     "output_type": "stream",
     "text": [
      "       panel variable:  product_site_id (unbalanced)\n",
      "        time variable:  temp_timein~x, 672 to 716\n",
      "                delta:  1 unit\n"
     ]
    }
   ],
   "source": [
    "xtset"
   ]
  },
  {
   "cell_type": "code",
   "execution_count": 13,
   "metadata": {},
   "outputs": [
    {
     "name": "stdout",
     "output_type": "stream",
     "text": [
      "\n",
      "\n",
      "\n",
      "\n",
      "    Variable |        Obs        Mean    Std. Dev.       Min        Max\n",
      "-------------+---------------------------------------------------------\n",
      "        year |     41,348    2017.522      1.0662       2016       2019\n",
      "       month |     41,348    6.305964    3.328858          1         12\n",
      "      region |          0\n",
      "    district |          0\n",
      "   site_code |          0\n",
      "-------------+---------------------------------------------------------\n",
      "product_code |          0\n",
      "        temp |     40,491    27.12557    2.049585          0         31\n",
      "     maxtemp |     40,491    31.50439    3.182233          0       64.6\n",
      "    pressure |     40,491    600.3173    497.0187          0     1016.7\n",
      "relativehu~y |     40,491    78.30246    13.59954          0     129.02\n",
      "-------------+---------------------------------------------------------\n",
      "rainfallsn~t |     40,491    94.60818    93.31702          0      870.2\n",
      "  visibility |     40,491    8.565474    1.449536          0         10\n",
      "   windspeed |     40,491    7.278877    4.665885          0         21\n",
      "maxsustain~d |     40,491    14.34753    8.437519          0       39.1\n",
      "rainordriz~e |     40,491    9.044034    6.496203          0         26\n",
      "-------------+---------------------------------------------------------\n",
      "       storm |     40,491     8.68719     7.15872          0         27\n",
      "         fog |     40,491    1.277914    2.803738          0         23\n",
      "temp_timei~x |     41,348     695.573    12.59741        672        716\n",
      "\n",
      "\n",
      "Duplicates in terms of all variables\n",
      "\n",
      "(0 observations are duplicates)\n",
      "\n",
      "\n",
      "    Variable |        Obs        Mean    Std. Dev.       Min        Max\n",
      "-------------+---------------------------------------------------------\n",
      "        year |     41,348    2017.522      1.0662       2016       2019\n",
      "       month |     41,348    6.305964    3.328858          1         12\n",
      "      region |          0\n",
      "    district |          0\n",
      "   site_code |          0\n",
      "-------------+---------------------------------------------------------\n",
      "product_code |          0\n",
      "        temp |     40,491    27.12557    2.049585          0         31\n",
      "     maxtemp |     40,491    31.50439    3.182233          0       64.6\n",
      "    pressure |     40,491    600.3173    497.0187          0     1016.7\n",
      "relativehu~y |     40,491    78.30246    13.59954          0     129.02\n",
      "-------------+---------------------------------------------------------\n",
      "rainfallsn~t |     40,491    94.60818    93.31702          0      870.2\n",
      "  visibility |     40,491    8.565474    1.449536          0         10\n",
      "   windspeed |     40,491    7.278877    4.665885          0         21\n",
      "maxsustain~d |     40,491    14.34753    8.437519          0       39.1\n",
      "rainordriz~e |     40,491    9.044034    6.496203          0         26\n",
      "-------------+---------------------------------------------------------\n",
      "       storm |     40,491     8.68719     7.15872          0         27\n",
      "         fog |     40,491    1.277914    2.803738          0         23\n",
      "temp_timei~x |     41,348     695.573    12.59741        672        716\n",
      "\n",
      "(note: file ../0_data/time_variant_supplement.dta not found)\n",
      "file ../0_data/time_variant_supplement.dta saved\n",
      "\n"
     ]
    }
   ],
   "source": [
    "preserve \n",
    "\n",
    "keep temp_timeindex year month site_code product_code region district maxtemp temp pressure relative* rain* visibility windspeed maxsus* storm fog  \n",
    "su\n",
    "duplicates drop\n",
    "su\n",
    "save \"../0_data/time_variant_supplement.dta\", replace \n",
    "restore "
   ]
  }
 ],
 "metadata": {
  "kernelspec": {
   "display_name": "Stata",
   "language": "stata",
   "name": "stata"
  },
  "language_info": {
   "codemirror_mode": "stata",
   "file_extension": ".do",
   "mimetype": "text/x-stata",
   "name": "stata",
   "version": "15.1"
  }
 },
 "nbformat": 4,
 "nbformat_minor": 4
}
